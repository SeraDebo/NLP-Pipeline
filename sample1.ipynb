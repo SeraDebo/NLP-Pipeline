{
 "cells": [
  {
   "cell_type": "code",
   "execution_count": 2,
   "id": "c6012b08",
   "metadata": {},
   "outputs": [],
   "source": [
    "import pandas as pd\n",
    "df = pd.read_csv(r\"R:\\\\Ahan_Da\\\\code\\\\Week1\\\\Dataset\\\\df_ar.csv\\\\df_ar.csv\")"
   ]
  },
  {
   "cell_type": "code",
   "execution_count": 3,
   "id": "31d95e62",
   "metadata": {},
   "outputs": [
    {
     "data": {
      "text/html": [
       "<div>\n",
       "<style scoped>\n",
       "    .dataframe tbody tr th:only-of-type {\n",
       "        vertical-align: middle;\n",
       "    }\n",
       "\n",
       "    .dataframe tbody tr th {\n",
       "        vertical-align: top;\n",
       "    }\n",
       "\n",
       "    .dataframe thead th {\n",
       "        text-align: right;\n",
       "    }\n",
       "</style>\n",
       "<table border=\"1\" class=\"dataframe\">\n",
       "  <thead>\n",
       "    <tr style=\"text-align: right;\">\n",
       "      <th></th>\n",
       "      <th>id</th>\n",
       "      <th>language</th>\n",
       "      <th>essay_id</th>\n",
       "      <th>text</th>\n",
       "      <th>score</th>\n",
       "    </tr>\n",
       "  </thead>\n",
       "  <tbody>\n",
       "    <tr>\n",
       "      <th>0</th>\n",
       "      <td>bc0267f_ar</td>\n",
       "      <td>ar</td>\n",
       "      <td>bc0267f</td>\n",
       "      <td>Cars have dramatically changed the way humans ...</td>\n",
       "      <td>3</td>\n",
       "    </tr>\n",
       "    <tr>\n",
       "      <th>1</th>\n",
       "      <td>722e307_ar</td>\n",
       "      <td>ar</td>\n",
       "      <td>722e307</td>\n",
       "      <td>The Seagoing Cowboys program is a once-in-a-li...</td>\n",
       "      <td>4</td>\n",
       "    </tr>\n",
       "    <tr>\n",
       "      <th>2</th>\n",
       "      <td>fe92183_ar</td>\n",
       "      <td>ar</td>\n",
       "      <td>fe92183</td>\n",
       "      <td>My position on self-driving cars is that I per...</td>\n",
       "      <td>2</td>\n",
       "    </tr>\n",
       "    <tr>\n",
       "      <th>3</th>\n",
       "      <td>eb67811_ar</td>\n",
       "      <td>ar</td>\n",
       "      <td>eb67811</td>\n",
       "      <td>My personal opinion is to preserve the elector...</td>\n",
       "      <td>3</td>\n",
       "    </tr>\n",
       "    <tr>\n",
       "      <th>4</th>\n",
       "      <td>50d9fe2_ar</td>\n",
       "      <td>ar</td>\n",
       "      <td>50d9fe2</td>\n",
       "      <td>When you compare the Mona Lisa's smile to the ...</td>\n",
       "      <td>1</td>\n",
       "    </tr>\n",
       "    <tr>\n",
       "      <th>5</th>\n",
       "      <td>ff331cc_ar</td>\n",
       "      <td>ar</td>\n",
       "      <td>ff331cc</td>\n",
       "      <td>How can we stop pollution from destroying the ...</td>\n",
       "      <td>3</td>\n",
       "    </tr>\n",
       "    <tr>\n",
       "      <th>6</th>\n",
       "      <td>a420b2e_ar</td>\n",
       "      <td>ar</td>\n",
       "      <td>a420b2e</td>\n",
       "      <td>Vote for me, the other guy what's going to tak...</td>\n",
       "      <td>1</td>\n",
       "    </tr>\n",
       "    <tr>\n",
       "      <th>7</th>\n",
       "      <td>dace458_ar</td>\n",
       "      <td>ar</td>\n",
       "      <td>dace458</td>\n",
       "      <td>Wow, have you seen this face on Mars! It was a...</td>\n",
       "      <td>2</td>\n",
       "    </tr>\n",
       "    <tr>\n",
       "      <th>8</th>\n",
       "      <td>38b93a3_ar</td>\n",
       "      <td>ar</td>\n",
       "      <td>38b93a3</td>\n",
       "      <td>Will Venus really be explored? In my opinion, ...</td>\n",
       "      <td>3</td>\n",
       "    </tr>\n",
       "    <tr>\n",
       "      <th>9</th>\n",
       "      <td>10b3a40_ar</td>\n",
       "      <td>ar</td>\n",
       "      <td>10b3a40</td>\n",
       "      <td>In this writing I will support the authors' ar...</td>\n",
       "      <td>4</td>\n",
       "    </tr>\n",
       "  </tbody>\n",
       "</table>\n",
       "</div>"
      ],
      "text/plain": [
       "           id language essay_id  \\\n",
       "0  bc0267f_ar       ar  bc0267f   \n",
       "1  722e307_ar       ar  722e307   \n",
       "2  fe92183_ar       ar  fe92183   \n",
       "3  eb67811_ar       ar  eb67811   \n",
       "4  50d9fe2_ar       ar  50d9fe2   \n",
       "5  ff331cc_ar       ar  ff331cc   \n",
       "6  a420b2e_ar       ar  a420b2e   \n",
       "7  dace458_ar       ar  dace458   \n",
       "8  38b93a3_ar       ar  38b93a3   \n",
       "9  10b3a40_ar       ar  10b3a40   \n",
       "\n",
       "                                                text  score  \n",
       "0  Cars have dramatically changed the way humans ...      3  \n",
       "1  The Seagoing Cowboys program is a once-in-a-li...      4  \n",
       "2  My position on self-driving cars is that I per...      2  \n",
       "3  My personal opinion is to preserve the elector...      3  \n",
       "4  When you compare the Mona Lisa's smile to the ...      1  \n",
       "5  How can we stop pollution from destroying the ...      3  \n",
       "6  Vote for me, the other guy what's going to tak...      1  \n",
       "7  Wow, have you seen this face on Mars! It was a...      2  \n",
       "8  Will Venus really be explored? In my opinion, ...      3  \n",
       "9  In this writing I will support the authors' ar...      4  "
      ]
     },
     "execution_count": 3,
     "metadata": {},
     "output_type": "execute_result"
    }
   ],
   "source": [
    "df.head(10)"
   ]
  },
  {
   "cell_type": "code",
   "execution_count": 5,
   "id": "852cb7db",
   "metadata": {},
   "outputs": [
    {
     "data": {
      "text/plain": [
       "'My personal opinion is to preserve the electoral college.\\xa0 So far, this process has worked for us and I don\\'t think we should change it.\\n\\nOne of the reasons I think we should keep the Electoral College is because of “certain results.”\\xa0 Most states award electoral votes on a winner-takes-all basis.\\xa0 Sometimes, even very slight plurality in a state results in a landslide electoral vote victory in that state.\\xa0 It is very unlikely that there is a connection to this system as well, because the total number of votes - 538 - is an even number.\\n\\nAnother reason I support the Electoral College is that no district can receive enough electoral votes to elect a president.\\xa0 A candidate has no reason to campaign only in his or her district; They can spend more time elsewhere rather than relying solely on electoral votes.\\n\\nI also believe that we should avoid the problem of elections in which no candidate receives a majority of the votes cast.\\xa0 There is pressure to hold runoff elections when no candidate wins a majority of votes.\\xa0 The electoral vote is declared the winner in this case.\\n\\nSome people seem to agree that we would be better off without the Electoral College.\\xa0 They argue that it is \"unfair, outdated and irrational\".\\n\\nOverall, I think we should keep the US Electoral College.'"
      ]
     },
     "execution_count": 5,
     "metadata": {},
     "output_type": "execute_result"
    }
   ],
   "source": [
    "df['text'][3]\n"
   ]
  },
  {
   "cell_type": "code",
   "execution_count": 6,
   "id": "c9b5304b",
   "metadata": {},
   "outputs": [
    {
     "data": {
      "text/plain": [
       "0        cars have dramatically changed the way humans ...\n",
       "1        the seagoing cowboys program is a once-in-a-li...\n",
       "2        my position on self-driving cars is that i per...\n",
       "3        my personal opinion is to preserve the elector...\n",
       "4        when you compare the mona lisa's smile to the ...\n",
       "                               ...                        \n",
       "17283    driverless cars? let's talk about that. in 201...\n",
       "17284    the author stresses that studying venus is a w...\n",
       "17285    venus is a challenge for humans because venus ...\n",
       "17286    astronauts risk their lives by exploring diffe...\n",
       "17287    venus is the second planet and also the hottes...\n",
       "Name: text, Length: 17288, dtype: object"
      ]
     },
     "execution_count": 6,
     "metadata": {},
     "output_type": "execute_result"
    }
   ],
   "source": [
    "df['text'].str.lower()"
   ]
  },
  {
   "cell_type": "code",
   "execution_count": 7,
   "id": "33219c41",
   "metadata": {},
   "outputs": [],
   "source": [
    "import re\n",
    "def remove_html_tags(text):\n",
    "    pattern = re.compile('<.*?>')\n",
    "    return pattern.sub(r'',text)"
   ]
  },
  {
   "cell_type": "code",
   "execution_count": 8,
   "id": "7fffe2e2",
   "metadata": {},
   "outputs": [
    {
     "data": {
      "text/plain": [
       "0        Cars have dramatically changed the way humans ...\n",
       "1        The Seagoing Cowboys program is a once-in-a-li...\n",
       "2        My position on self-driving cars is that I per...\n",
       "3        My personal opinion is to preserve the elector...\n",
       "4        When you compare the Mona Lisa's smile to the ...\n",
       "                               ...                        \n",
       "17283    Driverless cars? Let's talk about that. In 201...\n",
       "17284    The author stresses that studying Venus is a w...\n",
       "17285    Venus is a challenge for humans because Venus ...\n",
       "17286    Astronauts risk their lives by exploring diffe...\n",
       "17287    Venus is the second planet and also the hottes...\n",
       "Name: text, Length: 17288, dtype: object"
      ]
     },
     "execution_count": 8,
     "metadata": {},
     "output_type": "execute_result"
    }
   ],
   "source": [
    "df['text'].apply(remove_html_tags)"
   ]
  },
  {
   "cell_type": "code",
   "execution_count": 9,
   "id": "83202447",
   "metadata": {},
   "outputs": [],
   "source": [
    "def remove_url(text):\n",
    "    pattern = re.compile(r'https?://\\S+|www\\.\\S+')\n",
    "    return pattern.sub(r'',text)"
   ]
  },
  {
   "cell_type": "code",
   "execution_count": 10,
   "id": "ad41d5a0",
   "metadata": {},
   "outputs": [
    {
     "data": {
      "text/plain": [
       "0        Cars have dramatically changed the way humans ...\n",
       "1        The Seagoing Cowboys program is a once-in-a-li...\n",
       "2        My position on self-driving cars is that I per...\n",
       "3        My personal opinion is to preserve the elector...\n",
       "4        When you compare the Mona Lisa's smile to the ...\n",
       "                               ...                        \n",
       "17283    Driverless cars? Let's talk about that. In 201...\n",
       "17284    The author stresses that studying Venus is a w...\n",
       "17285    Venus is a challenge for humans because Venus ...\n",
       "17286    Astronauts risk their lives by exploring diffe...\n",
       "17287    Venus is the second planet and also the hottes...\n",
       "Name: text, Length: 17288, dtype: object"
      ]
     },
     "execution_count": 10,
     "metadata": {},
     "output_type": "execute_result"
    }
   ],
   "source": [
    "df['text'].apply(remove_url)"
   ]
  },
  {
   "cell_type": "code",
   "execution_count": 11,
   "id": "e7b599c1",
   "metadata": {},
   "outputs": [
    {
     "data": {
      "text/plain": [
       "'!\"#$%&\\'()*+,-./:;<=>?@[\\\\]^_`{|}~'"
      ]
     },
     "execution_count": 11,
     "metadata": {},
     "output_type": "execute_result"
    }
   ],
   "source": [
    "import string , time \n",
    "string.punctuation"
   ]
  },
  {
   "cell_type": "code",
   "execution_count": 12,
   "id": "668d93a7",
   "metadata": {},
   "outputs": [],
   "source": [
    "exclude =  string.punctuation"
   ]
  },
  {
   "cell_type": "code",
   "execution_count": 15,
   "id": "86c87984",
   "metadata": {},
   "outputs": [],
   "source": [
    "def remove_punc(text):\n",
    "    for char in exclude:\n",
    "        text = text.replace(char,'')\n",
    "    return text"
   ]
  },
  {
   "cell_type": "code",
   "execution_count": 16,
   "id": "a8ac1ee1",
   "metadata": {},
   "outputs": [
    {
     "data": {
      "text/plain": [
       "0        Cars have dramatically changed the way humans ...\n",
       "1        The Seagoing Cowboys program is a onceinalifet...\n",
       "2        My position on selfdriving cars is that I pers...\n",
       "3        My personal opinion is to preserve the elector...\n",
       "4        When you compare the Mona Lisas smile to the s...\n",
       "                               ...                        \n",
       "17283    Driverless cars Lets talk about that In 2013 B...\n",
       "17284    The author stresses that studying Venus is a w...\n",
       "17285    Venus is a challenge for humans because Venus ...\n",
       "17286    Astronauts risk their lives by exploring diffe...\n",
       "17287    Venus is the second planet and also the hottes...\n",
       "Name: text, Length: 17288, dtype: object"
      ]
     },
     "execution_count": 16,
     "metadata": {},
     "output_type": "execute_result"
    }
   ],
   "source": [
    "df['text'].apply(remove_punc)"
   ]
  },
  {
   "cell_type": "code",
   "execution_count": 24,
   "id": "97dddd5c",
   "metadata": {},
   "outputs": [],
   "source": [
    "from nltk.corpus import stopwords"
   ]
  },
  {
   "cell_type": "code",
   "execution_count": 25,
   "id": "e1290cba",
   "metadata": {},
   "outputs": [
    {
     "data": {
      "text/plain": [
       "['a',\n",
       " 'about',\n",
       " 'above',\n",
       " 'after',\n",
       " 'again',\n",
       " 'against',\n",
       " 'ain',\n",
       " 'all',\n",
       " 'am',\n",
       " 'an',\n",
       " 'and',\n",
       " 'any',\n",
       " 'are',\n",
       " 'aren',\n",
       " \"aren't\",\n",
       " 'as',\n",
       " 'at',\n",
       " 'be',\n",
       " 'because',\n",
       " 'been',\n",
       " 'before',\n",
       " 'being',\n",
       " 'below',\n",
       " 'between',\n",
       " 'both',\n",
       " 'but',\n",
       " 'by',\n",
       " 'can',\n",
       " 'couldn',\n",
       " \"couldn't\",\n",
       " 'd',\n",
       " 'did',\n",
       " 'didn',\n",
       " \"didn't\",\n",
       " 'do',\n",
       " 'does',\n",
       " 'doesn',\n",
       " \"doesn't\",\n",
       " 'doing',\n",
       " 'don',\n",
       " \"don't\",\n",
       " 'down',\n",
       " 'during',\n",
       " 'each',\n",
       " 'few',\n",
       " 'for',\n",
       " 'from',\n",
       " 'further',\n",
       " 'had',\n",
       " 'hadn',\n",
       " \"hadn't\",\n",
       " 'has',\n",
       " 'hasn',\n",
       " \"hasn't\",\n",
       " 'have',\n",
       " 'haven',\n",
       " \"haven't\",\n",
       " 'having',\n",
       " 'he',\n",
       " \"he'd\",\n",
       " \"he'll\",\n",
       " 'her',\n",
       " 'here',\n",
       " 'hers',\n",
       " 'herself',\n",
       " \"he's\",\n",
       " 'him',\n",
       " 'himself',\n",
       " 'his',\n",
       " 'how',\n",
       " 'i',\n",
       " \"i'd\",\n",
       " 'if',\n",
       " \"i'll\",\n",
       " \"i'm\",\n",
       " 'in',\n",
       " 'into',\n",
       " 'is',\n",
       " 'isn',\n",
       " \"isn't\",\n",
       " 'it',\n",
       " \"it'd\",\n",
       " \"it'll\",\n",
       " \"it's\",\n",
       " 'its',\n",
       " 'itself',\n",
       " \"i've\",\n",
       " 'just',\n",
       " 'll',\n",
       " 'm',\n",
       " 'ma',\n",
       " 'me',\n",
       " 'mightn',\n",
       " \"mightn't\",\n",
       " 'more',\n",
       " 'most',\n",
       " 'mustn',\n",
       " \"mustn't\",\n",
       " 'my',\n",
       " 'myself',\n",
       " 'needn',\n",
       " \"needn't\",\n",
       " 'no',\n",
       " 'nor',\n",
       " 'not',\n",
       " 'now',\n",
       " 'o',\n",
       " 'of',\n",
       " 'off',\n",
       " 'on',\n",
       " 'once',\n",
       " 'only',\n",
       " 'or',\n",
       " 'other',\n",
       " 'our',\n",
       " 'ours',\n",
       " 'ourselves',\n",
       " 'out',\n",
       " 'over',\n",
       " 'own',\n",
       " 're',\n",
       " 's',\n",
       " 'same',\n",
       " 'shan',\n",
       " \"shan't\",\n",
       " 'she',\n",
       " \"she'd\",\n",
       " \"she'll\",\n",
       " \"she's\",\n",
       " 'should',\n",
       " 'shouldn',\n",
       " \"shouldn't\",\n",
       " \"should've\",\n",
       " 'so',\n",
       " 'some',\n",
       " 'such',\n",
       " 't',\n",
       " 'than',\n",
       " 'that',\n",
       " \"that'll\",\n",
       " 'the',\n",
       " 'their',\n",
       " 'theirs',\n",
       " 'them',\n",
       " 'themselves',\n",
       " 'then',\n",
       " 'there',\n",
       " 'these',\n",
       " 'they',\n",
       " \"they'd\",\n",
       " \"they'll\",\n",
       " \"they're\",\n",
       " \"they've\",\n",
       " 'this',\n",
       " 'those',\n",
       " 'through',\n",
       " 'to',\n",
       " 'too',\n",
       " 'under',\n",
       " 'until',\n",
       " 'up',\n",
       " 've',\n",
       " 'very',\n",
       " 'was',\n",
       " 'wasn',\n",
       " \"wasn't\",\n",
       " 'we',\n",
       " \"we'd\",\n",
       " \"we'll\",\n",
       " \"we're\",\n",
       " 'were',\n",
       " 'weren',\n",
       " \"weren't\",\n",
       " \"we've\",\n",
       " 'what',\n",
       " 'when',\n",
       " 'where',\n",
       " 'which',\n",
       " 'while',\n",
       " 'who',\n",
       " 'whom',\n",
       " 'why',\n",
       " 'will',\n",
       " 'with',\n",
       " 'won',\n",
       " \"won't\",\n",
       " 'wouldn',\n",
       " \"wouldn't\",\n",
       " 'y',\n",
       " 'you',\n",
       " \"you'd\",\n",
       " \"you'll\",\n",
       " 'your',\n",
       " \"you're\",\n",
       " 'yours',\n",
       " 'yourself',\n",
       " 'yourselves',\n",
       " \"you've\"]"
      ]
     },
     "execution_count": 25,
     "metadata": {},
     "output_type": "execute_result"
    }
   ],
   "source": [
    "stopwords.words('english')"
   ]
  },
  {
   "cell_type": "code",
   "execution_count": 27,
   "id": "38489993",
   "metadata": {},
   "outputs": [],
   "source": [
    "def remove_stopwords(text):\n",
    "    new_text = []\n",
    "\n",
    "    for word in text.split():\n",
    "        if word in stopwords.words('english'):\n",
    "            new_text.append('')\n",
    "        else:\n",
    "            new_text.append(word)\n",
    "    x = new_text[:]\n",
    "    new_text.clear()\n",
    "    return \" \".join(x)\n"
   ]
  },
  {
   "cell_type": "code",
   "execution_count": 29,
   "id": "b9b37091",
   "metadata": {},
   "outputs": [],
   "source": [
    "text = \"Hello , my name is Debajyoti Paul\""
   ]
  },
  {
   "cell_type": "code",
   "execution_count": 32,
   "id": "15ae3428",
   "metadata": {},
   "outputs": [
    {
     "data": {
      "text/plain": [
       "'Hello ,  name  Debajyoti Paul'"
      ]
     },
     "execution_count": 32,
     "metadata": {},
     "output_type": "execute_result"
    }
   ],
   "source": [
    "remove_stopwords(text)"
   ]
  },
  {
   "cell_type": "code",
   "execution_count": 43,
   "id": "112be4c3",
   "metadata": {},
   "outputs": [],
   "source": [
    "sent1 = 'I am going to Delhi!'\n",
    "sent2 = ' Mail us at deb.paul22@gmail.com'\n",
    "sent3 = ' a 5km ride cost $40.95'"
   ]
  },
  {
   "cell_type": "code",
   "execution_count": 39,
   "id": "f764b48f",
   "metadata": {},
   "outputs": [
    {
     "name": "stderr",
     "output_type": "stream",
     "text": [
      "<>:2: SyntaxWarning: invalid escape sequence '\\W'\n",
      "<>:2: SyntaxWarning: invalid escape sequence '\\W'\n",
      "C:\\TEMP\\ipykernel_336\\1024742495.py:2: SyntaxWarning: invalid escape sequence '\\W'\n",
      "  tokens = re.findall(\"[\\W']+\", sent1)\n"
     ]
    },
    {
     "data": {
      "text/plain": [
       "[' ', ' ', ' ', ' ', '!']"
      ]
     },
     "execution_count": 39,
     "metadata": {},
     "output_type": "execute_result"
    }
   ],
   "source": [
    "import re\n",
    "tokens = re.findall(\"[\\W']+\", sent1)\n",
    "tokens"
   ]
  },
  {
   "cell_type": "code",
   "execution_count": 40,
   "id": "36de1100",
   "metadata": {},
   "outputs": [],
   "source": [
    "from nltk.tokenize import word_tokenize,sent_tokenize"
   ]
  },
  {
   "cell_type": "code",
   "execution_count": 41,
   "id": "e2b2e6eb",
   "metadata": {},
   "outputs": [
    {
     "data": {
      "text/plain": [
       "['I', 'am', 'going', 'to', 'Delhi', '!']"
      ]
     },
     "execution_count": 41,
     "metadata": {},
     "output_type": "execute_result"
    }
   ],
   "source": [
    "word_tokenize(sent1)"
   ]
  },
  {
   "cell_type": "code",
   "execution_count": 44,
   "id": "26261ad5",
   "metadata": {},
   "outputs": [],
   "source": [
    "sent1 = 'I am going to Delhi!'\n",
    "sent2 = ' Mail us at deb.paul22@gmail.com'\n",
    "sent3 = ' a 5km ride cost $40.95'"
   ]
  },
  {
   "cell_type": "code",
   "execution_count": 45,
   "id": "0ed6d5fe",
   "metadata": {},
   "outputs": [
    {
     "data": {
      "text/plain": [
       "['Mail', 'us', 'at', 'deb.paul22', '@', 'gmail.com']"
      ]
     },
     "execution_count": 45,
     "metadata": {},
     "output_type": "execute_result"
    }
   ],
   "source": [
    "word_tokenize(sent2)"
   ]
  },
  {
   "cell_type": "code",
   "execution_count": 46,
   "id": "585ed888",
   "metadata": {},
   "outputs": [
    {
     "data": {
      "text/plain": [
       "['a', '5km', 'ride', 'cost', '$', '40.95']"
      ]
     },
     "execution_count": 46,
     "metadata": {},
     "output_type": "execute_result"
    }
   ],
   "source": [
    "word_tokenize(sent3)"
   ]
  },
  {
   "cell_type": "code",
   "execution_count": 52,
   "id": "3e19fb70",
   "metadata": {},
   "outputs": [],
   "source": [
    "from nltk.stem.porter import PorterStemmer"
   ]
  },
  {
   "cell_type": "code",
   "execution_count": 53,
   "id": "560b4130",
   "metadata": {},
   "outputs": [],
   "source": [
    "ps = PorterStemmer()\n",
    "def stem_words(text):\n",
    "    return \" \".join([ps.stem(word) for word in text.split()])"
   ]
  },
  {
   "cell_type": "code",
   "execution_count": 54,
   "id": "e6ef192b",
   "metadata": {},
   "outputs": [
    {
     "data": {
      "text/plain": [
       "'walk walk walk walk'"
      ]
     },
     "execution_count": 54,
     "metadata": {},
     "output_type": "execute_result"
    }
   ],
   "source": [
    "sample = \"walk walking walked walks\"\n",
    "stem_words(stem_words(sample))"
   ]
  },
  {
   "cell_type": "code",
   "execution_count": 55,
   "id": "3cbc8233",
   "metadata": {},
   "outputs": [],
   "source": [
    "import nltk\n",
    "from nltk.stem import WordNetLemmatizer\n",
    "Wnl = WordNetLemmatizer()"
   ]
  },
  {
   "cell_type": "code",
   "execution_count": null,
   "id": "e6012268",
   "metadata": {},
   "outputs": [],
   "source": []
  }
 ],
 "metadata": {
  "kernelspec": {
   "display_name": "Python 3",
   "language": "python",
   "name": "python3"
  },
  "language_info": {
   "codemirror_mode": {
    "name": "ipython",
    "version": 3
   },
   "file_extension": ".py",
   "mimetype": "text/x-python",
   "name": "python",
   "nbconvert_exporter": "python",
   "pygments_lexer": "ipython3",
   "version": "3.12.3"
  }
 },
 "nbformat": 4,
 "nbformat_minor": 5
}
